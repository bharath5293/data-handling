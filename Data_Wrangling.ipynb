{
  "nbformat": 4,
  "nbformat_minor": 0,
  "metadata": {
    "colab": {
      "provenance": [],
      "authorship_tag": "ABX9TyP45p2r7+iJSyk7aE/CeS8D",
      "include_colab_link": true
    },
    "kernelspec": {
      "name": "python3",
      "display_name": "Python 3"
    },
    "language_info": {
      "name": "python"
    }
  },
  "cells": [
    {
      "cell_type": "markdown",
      "metadata": {
        "id": "view-in-github",
        "colab_type": "text"
      },
      "source": [
        "<a href=\"https://colab.research.google.com/github/bharath5293/data-handling/blob/main/Data_Wrangling.ipynb\" target=\"_parent\"><img src=\"https://colab.research.google.com/assets/colab-badge.svg\" alt=\"Open In Colab\"/></a>"
      ]
    },
    {
      "cell_type": "code",
      "execution_count": null,
      "metadata": {
        "id": "hrLHisf3f9dE"
      },
      "outputs": [],
      "source": []
    },
    {
      "cell_type": "code",
      "source": [
        "from google.colab import drive\n",
        "drive.mount('/content/drive')"
      ],
      "metadata": {
        "colab": {
          "base_uri": "https://localhost:8080/"
        },
        "id": "6E5IROiBgScu",
        "outputId": "4f02bf7c-594e-4058-86f4-d9fe43cc5e29"
      },
      "execution_count": 1,
      "outputs": [
        {
          "output_type": "stream",
          "name": "stdout",
          "text": [
            "Mounted at /content/drive\n"
          ]
        }
      ]
    },
    {
      "cell_type": "code",
      "source": [
        "import pandas as pd\n",
        "import numpy as np"
      ],
      "metadata": {
        "id": "gBhErl4bgaY7"
      },
      "execution_count": 3,
      "outputs": []
    },
    {
      "cell_type": "code",
      "source": [
        "df=pd.read_csv(\"/content/drive/MyDrive/train.csv\")\n",
        "print(df)"
      ],
      "metadata": {
        "colab": {
          "base_uri": "https://localhost:8080/"
        },
        "id": "ifFuUq_JgeND",
        "outputId": "f026a195-27fe-455a-df02-84b0ee94df74"
      },
      "execution_count": 10,
      "outputs": [
        {
          "output_type": "stream",
          "name": "stdout",
          "text": [
            "     survived  pclass                                               name  \\\n",
            "0           0       3                            Braund, Mr. Owen Harris   \n",
            "1           1       1  Cumings, Mrs. John Bradley (Florence Briggs Th...   \n",
            "2           1       3                             Heikkinen, Miss. Laina   \n",
            "3           1       1       Futrelle, Mrs. Jacques Heath (Lily May Peel)   \n",
            "4           0       3                           Allen, Mr. William Henry   \n",
            "..        ...     ...                                                ...   \n",
            "886         0       2                              Montvila, Rev. Juozas   \n",
            "887         1       1                       Graham, Miss. Margaret Edith   \n",
            "888         0       3           Johnston, Miss. Catherine Helen \"Carrie\"   \n",
            "889         1       1                              Behr, Mr. Karl Howell   \n",
            "890         0       3                                Dooley, Mr. Patrick   \n",
            "\n",
            "        sex   age  sibsp  parch            ticket     fare cabin embarked  \n",
            "0      male  22.0      1      0         A/5 21171   7.2500   NaN        S  \n",
            "1    female  38.0      1      0          PC 17599  71.2833   C85        C  \n",
            "2    female  26.0      0      0  STON/O2. 3101282   7.9250   NaN        S  \n",
            "3    female  35.0      1      0            113803  53.1000  C123        S  \n",
            "4      male  35.0      0      0            373450   8.0500   NaN        S  \n",
            "..      ...   ...    ...    ...               ...      ...   ...      ...  \n",
            "886    male  27.0      0      0            211536  13.0000   NaN        S  \n",
            "887  female  19.0      0      0            112053  30.0000   B42        S  \n",
            "888  female   NaN      1      2        W./C. 6607  23.4500   NaN        S  \n",
            "889    male  26.0      0      0            111369  30.0000  C148        C  \n",
            "890    male  32.0      0      0            370376   7.7500   NaN        Q  \n",
            "\n",
            "[891 rows x 11 columns]\n"
          ]
        }
      ]
    },
    {
      "cell_type": "code",
      "source": [
        "null_values = df.isnull().sum()\n",
        "print(null_values)"
      ],
      "metadata": {
        "colab": {
          "base_uri": "https://localhost:8080/"
        },
        "id": "YEBzT-xRg-sN",
        "outputId": "3a08500e-f6fc-4a9f-9b82-965a504bf458"
      },
      "execution_count": 5,
      "outputs": [
        {
          "output_type": "stream",
          "name": "stdout",
          "text": [
            "survived      0\n",
            "pclass        0\n",
            "name          0\n",
            "sex           0\n",
            "age         177\n",
            "sibsp         0\n",
            "parch         0\n",
            "ticket        0\n",
            "fare          0\n",
            "cabin       687\n",
            "embarked      2\n",
            "dtype: int64\n"
          ]
        }
      ]
    },
    {
      "cell_type": "code",
      "source": [
        "age_mean = df['age'].mean()\n",
        "df['age'].fillna(age_mean, inplace=True)\n",
        "df.to_csv('train_filled.csv', index=False)\n",
        "print(\"Null values filled with mean of age and saved to train_filled.csv\")\n",
        "print(age_mean)"
      ],
      "metadata": {
        "colab": {
          "base_uri": "https://localhost:8080/"
        },
        "id": "pg11sBJMhYE7",
        "outputId": "90a7936e-01c0-42b8-ad81-f8b1344e4627"
      },
      "execution_count": 7,
      "outputs": [
        {
          "output_type": "stream",
          "name": "stdout",
          "text": [
            "Null values filled with mean of age and saved to train_filled.csv\n",
            "29.69911764705882\n"
          ]
        }
      ]
    },
    {
      "cell_type": "code",
      "source": [
        "df.drop(columns=['cabin'], inplace=True)\n",
        "df.to_csv('train_without_cabin.csv', index=False)\n",
        "print(\"Column 'cabin' dropped and saved to train_without_cabin.csv\")"
      ],
      "metadata": {
        "colab": {
          "base_uri": "https://localhost:8080/"
        },
        "id": "xCTeSQF7iAWs",
        "outputId": "2260a9ce-6a6f-40c3-9622-2214014c0a69"
      },
      "execution_count": 8,
      "outputs": [
        {
          "output_type": "stream",
          "name": "stdout",
          "text": [
            "Column 'cabin' dropped and saved to train_without_cabin.csv\n"
          ]
        }
      ]
    },
    {
      "cell_type": "code",
      "source": [
        "passengers_over_40 = df[df['age'] > 40][['name', 'age']]\n",
        "print(passengers_over_40)"
      ],
      "metadata": {
        "colab": {
          "base_uri": "https://localhost:8080/"
        },
        "id": "c59HxQQ4iC9z",
        "outputId": "d914e95e-734d-4131-d4ea-6b41f36a51d1"
      },
      "execution_count": 11,
      "outputs": [
        {
          "output_type": "stream",
          "name": "stdout",
          "text": [
            "                                                  name   age\n",
            "6                              McCarthy, Mr. Timothy J  54.0\n",
            "11                            Bonnell, Miss. Elizabeth  58.0\n",
            "15                    Hewlett, Mrs. (Mary D Kingcome)   55.0\n",
            "33                               Wheadon, Mr. Edward H  66.0\n",
            "35                      Holverson, Mr. Alexander Oskar  42.0\n",
            "..                                                 ...   ...\n",
            "862  Swift, Mrs. Frederick Joel (Margaret Welles Ba...  48.0\n",
            "865                           Bystrom, Mrs. (Karolina)  42.0\n",
            "871   Beckwith, Mrs. Richard Leonard (Sallie Monypeny)  47.0\n",
            "873                        Vander Cruyssen, Mr. Victor  47.0\n",
            "879      Potter, Mrs. Thomas Jr (Lily Alexenia Wilson)  56.0\n",
            "\n",
            "[150 rows x 2 columns]\n"
          ]
        }
      ]
    },
    {
      "cell_type": "code",
      "source": [
        "first= df.iloc[:2]\n",
        "last = df.iloc[-2:]\n",
        "merged_df = pd.concat([first, last])\n",
        "print(merged_df)"
      ],
      "metadata": {
        "colab": {
          "base_uri": "https://localhost:8080/"
        },
        "id": "JCE1Vt8ckNLF",
        "outputId": "9a0dbc5e-d9a2-44d6-f1e4-0c1227ca9b8c"
      },
      "execution_count": 14,
      "outputs": [
        {
          "output_type": "stream",
          "name": "stdout",
          "text": [
            "     survived  pclass                                               name  \\\n",
            "0           0       3                            Braund, Mr. Owen Harris   \n",
            "1           1       1  Cumings, Mrs. John Bradley (Florence Briggs Th...   \n",
            "889         1       1                              Behr, Mr. Karl Howell   \n",
            "890         0       3                                Dooley, Mr. Patrick   \n",
            "\n",
            "        sex   age  sibsp  parch     ticket     fare cabin embarked  \n",
            "0      male  22.0      1      0  A/5 21171   7.2500   NaN        S  \n",
            "1    female  38.0      1      0   PC 17599  71.2833   C85        C  \n",
            "889    male  26.0      0      0     111369  30.0000  C148        C  \n",
            "890    male  32.0      0      0     370376   7.7500   NaN        Q  \n"
          ]
        }
      ]
    }
  ]
}