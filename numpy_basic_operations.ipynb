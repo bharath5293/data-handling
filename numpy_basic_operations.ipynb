{
  "nbformat": 4,
  "nbformat_minor": 0,
  "metadata": {
    "colab": {
      "provenance": [],
      "authorship_tag": "ABX9TyNUp3CrbEF5/ISNOsDymD6+",
      "include_colab_link": true
    },
    "kernelspec": {
      "name": "python3",
      "display_name": "Python 3"
    },
    "language_info": {
      "name": "python"
    }
  },
  "cells": [
    {
      "cell_type": "markdown",
      "metadata": {
        "id": "view-in-github",
        "colab_type": "text"
      },
      "source": [
        "<a href=\"https://colab.research.google.com/github/bharath5293/data-handling/blob/main/numpy_basic_operations.ipynb\" target=\"_parent\"><img src=\"https://colab.research.google.com/assets/colab-badge.svg\" alt=\"Open In Colab\"/></a>"
      ]
    },
    {
      "cell_type": "code",
      "source": [
        "import numpy as np"
      ],
      "metadata": {
        "id": "-Yh4D1ufsMz5"
      },
      "execution_count": 3,
      "outputs": []
    },
    {
      "cell_type": "code",
      "execution_count": 7,
      "metadata": {
        "colab": {
          "base_uri": "https://localhost:8080/"
        },
        "id": "eng5MYfZqmNr",
        "outputId": "46333dec-78f3-426b-b199-44086345b185"
      },
      "outputs": [
        {
          "output_type": "stream",
          "name": "stdout",
          "text": [
            "Shape: (5,)\n",
            "Size: 5\n",
            "Shape: (2, 3)\n",
            "Size: 6\n",
            "Shape: (2, 2, 2)\n",
            "Size: 8\n"
          ]
        }
      ],
      "source": [
        "array_1d = np.array([1, 2, 3, 4, 5])\n",
        "array_2d = np.array([[1, 2, 3], [4, 5, 6]])\n",
        "array_3d = np.array([[[1, 2], [3, 4]], [[5, 6], [7, 8]]])\n",
        "print(\"Shape:\", array_1d.shape)\n",
        "print(\"Size:\", array_1d.size)\n",
        "print(\"Shape:\", array_2d.shape)\n",
        "print(\"Size:\", array_2d.size)\n",
        "print(\"Shape:\", array_3d.shape)\n",
        "print(\"Size:\", array_3d.size)\n"
      ]
    },
    {
      "cell_type": "code",
      "source": [
        "array_2d = np.random.randint(0, 10, size=(3, 3))\n",
        "print(\"2D Array:\")\n",
        "print(array_2d)\n",
        "array_arranged = np.sort(array_2d, axis=None)\n",
        "print(\"\\nArranged Array:\")\n",
        "print(array_arranged)\n",
        "array_random = np.random.rand(3, 3)\n",
        "print(\"\\nRandom Array:\")\n",
        "print(array_random)\n",
        "array_linespace = np.linspace(1, 10, num=5)\n",
        "print(\"\\nLinespace Array:\")\n",
        "print(array_linespace)\n",
        "array_ones = np.ones((4, 4))\n",
        "print(\"\\nOnes Array:\")\n",
        "print(array_ones)\n",
        "array_zeros = np.zeros((2, 2))\n",
        "print(\"\\nZeros Array:\")\n",
        "print(array_zeros)\n",
        "diagonal_elements = np.diag(array_2d)\n",
        "print(\"\\nDiagonal Elements:\")\n",
        "print(diagonal_elements)\n",
        "array_sum = np.sum(array_2d)\n",
        "print(\"\\nSum of Array:\")\n",
        "print(array_sum)\n",
        "array_min = np.min(array_2d)\n",
        "print(\"\\nMinimum Value:\")\n",
        "print(array_min)\n",
        "array_max = np.max(array_2d)\n",
        "print(\"\\nMaximum Value:\")\n",
        "print(array_max)\n",
        "array_mean = np.mean(array_2d)\n",
        "print(\"\\nMean of Array:\")\n",
        "print(array_mean)"
      ],
      "metadata": {
        "colab": {
          "base_uri": "https://localhost:8080/"
        },
        "id": "qLTchZX8tsrK",
        "outputId": "084be690-d557-4212-b90b-e66be5ee20fb"
      },
      "execution_count": 8,
      "outputs": [
        {
          "output_type": "stream",
          "name": "stdout",
          "text": [
            "2D Array:\n",
            "[[9 8 6]\n",
            " [2 0 6]\n",
            " [0 6 8]]\n",
            "\n",
            "Arranged Array:\n",
            "[0 0 2 6 6 6 8 8 9]\n",
            "\n",
            "Random Array:\n",
            "[[0.80677793 0.14358966 0.98647833]\n",
            " [0.32732365 0.82731154 0.46377319]\n",
            " [0.30687479 0.47513533 0.81090976]]\n",
            "\n",
            "Linespace Array:\n",
            "[ 1.    3.25  5.5   7.75 10.  ]\n",
            "\n",
            "Ones Array:\n",
            "[[1. 1. 1. 1.]\n",
            " [1. 1. 1. 1.]\n",
            " [1. 1. 1. 1.]\n",
            " [1. 1. 1. 1.]]\n",
            "\n",
            "Zeros Array:\n",
            "[[0. 0.]\n",
            " [0. 0.]]\n",
            "\n",
            "Diagonal Elements:\n",
            "[9 0 8]\n",
            "\n",
            "Sum of Array:\n",
            "45\n",
            "\n",
            "Minimum Value:\n",
            "0\n",
            "\n",
            "Maximum Value:\n",
            "9\n",
            "\n",
            "Mean of Array:\n",
            "5.0\n"
          ]
        }
      ]
    },
    {
      "cell_type": "code",
      "source": [
        "student_marks = np.random.randint(0, 101, size=50)\n",
        "passed_marks = student_marks[student_marks >= 30]\n",
        "failed_marks = student_marks[student_marks < 30]\n",
        "num_passed = len(passed_marks)\n",
        "num_failed = len(failed_marks)\n",
        "print(\"Total number of students:\", len(student_marks))\n",
        "print(\"Number of students who passed:\", num_passed)\n",
        "print(\"Number of students who failed:\", num_failed)\n",
        "print(\"\\nMarks of students who failed:\")\n",
        "print(failed_marks)"
      ],
      "metadata": {
        "colab": {
          "base_uri": "https://localhost:8080/"
        },
        "id": "mRgoXcS1u4z6",
        "outputId": "02409d90-b7a1-4939-f3ed-42c8332a5022"
      },
      "execution_count": 9,
      "outputs": [
        {
          "output_type": "stream",
          "name": "stdout",
          "text": [
            "Total number of students: 50\n",
            "Number of students who passed: 34\n",
            "Number of students who failed: 16\n",
            "\n",
            "Marks of students who failed:\n",
            "[18 25 24  0 23 13 27 22 27 21  1 12 16 13 13 16]\n"
          ]
        }
      ]
    },
    {
      "cell_type": "code",
      "source": [
        "array_2d = np.random.randint(1, 51, size=(5, 5))\n",
        "\n",
        "print(array_2d)"
      ],
      "metadata": {
        "colab": {
          "base_uri": "https://localhost:8080/"
        },
        "id": "T5RKzF3sxIdS",
        "outputId": "eee9e74a-5544-4764-f0da-0a1aa379d287"
      },
      "execution_count": 10,
      "outputs": [
        {
          "output_type": "stream",
          "name": "stdout",
          "text": [
            "[[ 5 50  3 44  7]\n",
            " [10  5 27 10 16]\n",
            " [30  1 40  3 35]\n",
            " [39 12  4 14 46]\n",
            " [ 5  2 12  1 13]]\n"
          ]
        }
      ]
    },
    {
      "cell_type": "code",
      "source": [
        "array_odd = np.arange(-29, 11, step=2)\n",
        "\n",
        "print(array_odd)"
      ],
      "metadata": {
        "colab": {
          "base_uri": "https://localhost:8080/"
        },
        "id": "iT8wz-TixVS4",
        "outputId": "360b2b09-a277-4965-ae4b-413eae543cbc"
      },
      "execution_count": 11,
      "outputs": [
        {
          "output_type": "stream",
          "name": "stdout",
          "text": [
            "[-29 -27 -25 -23 -21 -19 -17 -15 -13 -11  -9  -7  -5  -3  -1   1   3   5\n",
            "   7   9]\n"
          ]
        }
      ]
    }
  ]
}